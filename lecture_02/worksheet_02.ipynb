{
 "cells": [
  {
   "attachments": {},
   "cell_type": "markdown",
   "metadata": {},
   "source": [
    "# Worksheet 02\n",
    "\n",
    "Name: Mark Maci\n",
    "UID: U30478693\n",
    "\n",
    "### Topics\n",
    "\n",
    "- Effective Programming\n",
    "\n",
    "### Effective Programming\n",
    "\n",
    "a) What is a drawback of the top down approach?"
   ]
  },
  {
   "cell_type": "markdown",
   "metadata": {},
   "source": [
    "By starting from a high-level solution, by the time you get to the low-level details, you may realize that the top-level design choices you made are no longer compatible or easily workable with what you want your code to do. "
   ]
  },
  {
   "cell_type": "markdown",
   "metadata": {},
   "source": [
    "b) What is a drawback of the bottom up approach?"
   ]
  },
  {
   "cell_type": "markdown",
   "metadata": {},
   "source": [
    "If you start with granular, low-level functions or components of your program, you may end up over-engineering your solution. You may end up with a lot of code that is not necessary for your program to work."
   ]
  },
  {
   "cell_type": "markdown",
   "metadata": {},
   "source": [
    "c) What are 3 things you can do to have a better debugging experience?"
   ]
  },
  {
   "cell_type": "markdown",
   "metadata": {},
   "source": [
    "1. By using a good logger, we can get a lot of information about the execution and state of the code. This can help us pinpoint where the error is occurring and what the state of the program is at that point in time.\n",
    "\n",
    "2. Similarly, using an integrated debugger or repl like that in vscode or intelliJ for scala can help us minutely examine the execution loop of code or functions and see where a varaible is failing to be assigned or whatever the bug may be.\n",
    "\n",
    "3. Writing unit tests for your functions can help you clean out bugs before they even occur. By writing tests for your functions, you can ensure that they are working as expected and that they are not breaking any other functions or components of your program."
   ]
  },
  {
   "attachments": {},
   "cell_type": "markdown",
   "metadata": {},
   "source": [
    "d) Follow along with the live coding. You can write your code here:"
   ]
  },
  {
   "cell_type": "code",
   "execution_count": 17,
   "metadata": {},
   "outputs": [
    {
     "name": "stdout",
     "output_type": "stream",
     "text": [
      " _\n",
      " _\n",
      " _\n",
      " _\n",
      " _\n",
      " _\n",
      " _\n",
      " _\n",
      " _\n",
      " _\n",
      " _\n",
      " _\n",
      " _\n",
      " _\n",
      " _\n",
      " _\n",
      " _\n",
      " _\n",
      " _\n",
      " _\n",
      " _\n",
      " _\n",
      " _\n",
      " _\n",
      " _\n",
      " _\n",
      " _\n",
      " _\n",
      " _\n",
      " _\n",
      " _\n",
      " _\n",
      " _\n",
      " _\n",
      " _\n",
      " _\n",
      " _\n",
      " _\n",
      " _\n",
      " _\n",
      " _\n",
      " _\n",
      " _\n",
      " _\n",
      " _\n",
      " _\n",
      " _\n",
      " _\n",
      " _\n",
      " _\n",
      " _\n",
      " _\n",
      " _\n",
      " _\n",
      " _\n",
      " _\n",
      " _\n",
      " _\n",
      " _\n",
      " _\n",
      " _\n",
      " _\n",
      " _\n",
      " _\n",
      "\n"
     ]
    }
   ],
   "source": [
    "class Board:\n",
    "    def __init__(self):\n",
    "        self.board = [[\"_\"] for _ in range(8) for _ in range(8)]\n",
    "\n",
    "    def __repr__(self) -> str:\n",
    "        res = \"\"\n",
    "        for row in self.board:\n",
    "            for col in row:\n",
    "                res += \" \"\n",
    "                res += col\n",
    "\n",
    "        return res\n",
    "    \n",
    "    def is_legal_row(self, row):\n",
    "        for i in range(len(self.board)):\n",
    "            if self.board[row][i] == \"Q\":\n",
    "                return False\n",
    "        return True\n",
    "    \n",
    "    def is_legal_col(self, col):\n",
    "        for i in range(len(self.board)):\n",
    "            if self.board[i][col] == \"Q\":\n",
    "                return False\n",
    "        return True\n",
    "    \n",
    "    def is_legal_diag(self, row, col):\n",
    "        for i in range(len(self.board)):\n",
    "            if self.is_on_board(row + i, col + i) and self.board[row + i][col + i] == \"Q\":\n",
    "                return False\n",
    "            if self.is_on_board(row - i, col - i) and self.board[row - i][col - i] == \"Q\":\n",
    "                return False\n",
    "            if self.is_on_board(row + i, col - i) and self.board[row + i][col - i] == \"Q\":\n",
    "                return False\n",
    "            if self.is_on_board(row - i, col + i) and self.board[row - i][col + i] == \"Q\":\n",
    "                return False\n",
    "            \n",
    "        return True\n",
    "    \n",
    "    def is_legal(self, row, col):\n",
    "        if not self.is_legal_row(row):\n",
    "            return False\n",
    "        if not self.is_legal_col(col):\n",
    "            return False\n",
    "        return True\n",
    "    \n",
    "    def is_on_board(self, row, col):\n",
    "        return (row >= 0 and row < 8) and (col >= 0 and col < 8)\n",
    "        \n",
    "    def set_queen_at(self, row, col):\n",
    "            self.board[row][col] = \"Q\"\n",
    "    \n",
    "    def unset_queen_at(self, row, col):\n",
    "            self.board[row][col] = \"_\"\n",
    "\n",
    "    def get_queen_on(self, row):\n",
    "        for col in range(8):\n",
    "            if self.board[row][col] == \"Q\":\n",
    "                return col\n",
    "        return None\n",
    "    \n",
    "    def search(self):\n",
    "        row = 0\n",
    "        col = 0\n",
    "        while row < 8:\n",
    "            if self.is_legal(row, col):\n",
    "                self.set_queen_at(row, col)\n",
    "                row += 1\n",
    "                col = 0\n",
    "            else:\n",
    "                col += 1\n",
    "                while col >= 8:\n",
    "                    col = self.get_queen_on(row - 1)\n",
    "                    self.unset_queen_at(row - 1)\n",
    "                    col += 1\n",
    "                    row -= 1\n",
    "                    \n",
    "        print(\"found a solution\")\n",
    "        print(self)\n",
    "        return self\n",
    "    \n",
    "                        \n",
    "\n",
    "           \n",
    "    \n",
    "\n",
    "board = Board()\n",
    "board.search()\n",
    "print(board)\n",
    "    \n",
    "                "
   ]
  }
 ],
 "metadata": {
  "kernelspec": {
   "display_name": "Python 3",
   "language": "python",
   "name": "python3"
  },
  "language_info": {
   "codemirror_mode": {
    "name": "ipython",
    "version": 3
   },
   "file_extension": ".py",
   "mimetype": "text/x-python",
   "name": "python",
   "nbconvert_exporter": "python",
   "pygments_lexer": "ipython3",
   "version": "3.11.4"
  },
  "orig_nbformat": 4,
  "vscode": {
   "interpreter": {
    "hash": "76ca05dc3ea24b2e3b98cdb7774adfbb40773424bf5109b477fd793f623715af"
   }
  }
 },
 "nbformat": 4,
 "nbformat_minor": 2
}

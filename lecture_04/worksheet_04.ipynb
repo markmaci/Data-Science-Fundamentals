{
 "cells": [
  {
   "attachments": {},
   "cell_type": "markdown",
   "metadata": {},
   "source": [
    "# Worksheet 04\n",
    "\n",
    "Name:  Mark Maci\n",
    "UID: U30478693\n",
    "\n",
    "### Topics\n",
    "\n",
    "- Distance & Similarity"
   ]
  },
  {
   "cell_type": "markdown",
   "metadata": {},
   "source": [
    "### Distance & Similarity\n",
    "\n",
    "#### Part 1\n",
    "\n",
    "a) In the minkowski distance, describe what the parameters p and d are."
   ]
  },
  {
   "cell_type": "markdown",
   "metadata": {},
   "source": [
    "x is a vector of length n, y is a vector of length n, p is a parameter that determines the type of minkowski distance, and d is the dimension of the vector space."
   ]
  },
  {
   "cell_type": "markdown",
   "metadata": {},
   "source": [
    "b) In your own words describe the difference between the Euclidean distance and the Manhattan distance."
   ]
  },
  {
   "cell_type": "markdown",
   "metadata": {},
   "source": [
    "Euclidean distance takes the square root of the sum of the squared differences between the two vectors. Manhattan distance takes the sum of the absolute value of the differences between the two vectors. So Euclidean is the shortest, but Manhattan is only along the \"grid.\""
   ]
  },
  {
   "attachments": {},
   "cell_type": "markdown",
   "metadata": {},
   "source": [
    "Consider A = (0, 0) and B = (1, 1). When:\n",
    "\n",
    "- p = 1, d(A, B) = 2\n",
    "- p = 2, d(A, B) = $\\sqrt{2} = 1.41$\n",
    "- p = 3, d(A, B) = $2^{1/3} = 1.26$\n",
    "- p = 4, d(A, B) = $2^{1/4} = 1.19$\n",
    "\n",
    "c) Describe what you think distance would look like when p is very large."
   ]
  },
  {
   "cell_type": "markdown",
   "metadata": {},
   "source": [
    "The distance would decrease to the minimum value of the largest difference between the two vectors."
   ]
  },
  {
   "cell_type": "markdown",
   "metadata": {},
   "source": [
    "d) Is the minkowski distance still a distance function when p < 1? Expain why / why not."
   ]
  },
  {
   "cell_type": "markdown",
   "metadata": {},
   "source": [
    "No because it violates the triagle inequality. The distance between two points is always less than or equal to the sum of the distances between the two points and a third point."
   ]
  },
  {
   "cell_type": "markdown",
   "metadata": {},
   "source": [
    "e) when would you use cosine similarity over the euclidan distance?"
   ]
  },
  {
   "cell_type": "markdown",
   "metadata": {},
   "source": [
    "When the angle between vectors is more important data wise than the difference in magnitude."
   ]
  },
  {
   "cell_type": "markdown",
   "metadata": {},
   "source": [
    "f) what does the jaccard distance account for that the manhattan distance doesn't?"
   ]
  },
  {
   "cell_type": "markdown",
   "metadata": {},
   "source": [
    "The jaccard distance accounts for the number of items that are in both vectors, not just the differences."
   ]
  },
  {
   "cell_type": "markdown",
   "metadata": {},
   "source": []
  },
  {
   "attachments": {},
   "cell_type": "markdown",
   "metadata": {},
   "source": [
    "#### Part 2\n",
    "\n",
    "Consider the following two sentences:"
   ]
  },
  {
   "cell_type": "code",
   "execution_count": 13,
   "metadata": {},
   "outputs": [],
   "source": [
    "s1 = \"hello my name is Alice\"  \n",
    "s2 = \"hello my name is Bob\""
   ]
  },
  {
   "cell_type": "markdown",
   "metadata": {},
   "source": [
    "using the union of words from both sentences, we can represent each sentence as a vector. Each element of the vector represents the presence or absence of the word at that index.\n",
    "\n",
    "In this example, the union of words is (\"hello\", \"my\", \"name\", \"is\", \"Alice\", \"Bob\") so we can represent the above sentences as such:"
   ]
  },
  {
   "cell_type": "code",
   "execution_count": 14,
   "metadata": {},
   "outputs": [],
   "source": [
    "v1 = [1,    1, 1,   1, 1,    0]\n",
    "#     hello my name is Alice\n",
    "v2 = [1,    1, 1,   1, 0, 1]\n",
    "#     hello my name is    Bob"
   ]
  },
  {
   "attachments": {},
   "cell_type": "markdown",
   "metadata": {},
   "source": [
    "Programmatically, we can do the following:"
   ]
  },
  {
   "cell_type": "code",
   "execution_count": 15,
   "metadata": {},
   "outputs": [
    {
     "name": "stdout",
     "output_type": "stream",
     "text": [
      "['Alice', 'my', 'is', 'Bob', 'hello', 'name']\n",
      "[1, 1, 1, 0, 1, 1]\n"
     ]
    }
   ],
   "source": [
    "corpus = [s1, s2]\n",
    "all_words = list(set([item for x in corpus for item in x.split()]))\n",
    "print(all_words)\n",
    "v1 = [1 if x in s1 else 0 for x in all_words]\n",
    "print(v1)"
   ]
  },
  {
   "cell_type": "markdown",
   "metadata": {},
   "source": [
    "Let's add a new sentence to our corpus:"
   ]
  },
  {
   "cell_type": "code",
   "execution_count": 16,
   "metadata": {},
   "outputs": [],
   "source": [
    "s3 = \"hi my name is Claude\"\n",
    "corpus.append(s3)"
   ]
  },
  {
   "cell_type": "markdown",
   "metadata": {},
   "source": [
    "a) What is the new union of words used to represent s1, s2, and s3?"
   ]
  },
  {
   "cell_type": "code",
   "execution_count": 17,
   "metadata": {},
   "outputs": [
    {
     "name": "stdout",
     "output_type": "stream",
     "text": [
      "['Alice', 'my', 'is', 'Bob', 'Claude', 'hello', 'hi', 'name']\n"
     ]
    }
   ],
   "source": [
    "new_words = list(set([item for x in corpus for item in x.split()]))\n",
    "print(new_words)"
   ]
  },
  {
   "attachments": {},
   "cell_type": "markdown",
   "metadata": {},
   "source": [
    "b) Represent s1, s2, and s3 as vectors as above, using this new set of words."
   ]
  },
  {
   "cell_type": "code",
   "execution_count": 18,
   "metadata": {},
   "outputs": [
    {
     "name": "stdout",
     "output_type": "stream",
     "text": [
      "[1, 1, 1, 0, 0, 1, 0, 1]\n",
      "[0, 1, 1, 1, 0, 1, 0, 1]\n",
      "[0, 1, 1, 0, 1, 0, 1, 1]\n"
     ]
    }
   ],
   "source": [
    "def vectorize(s, words):\n",
    "    return [1 if x in s else 0 for x in words]\n",
    "\n",
    "s1_vec = vectorize(s1, new_words)\n",
    "s2_vec = vectorize(s2, new_words)\n",
    "s3_vec = vectorize(s3, new_words)\n",
    "\n",
    "print(s1_vec)\n",
    "print(s2_vec)\n",
    "print(s3_vec)\n"
   ]
  },
  {
   "cell_type": "markdown",
   "metadata": {},
   "source": [
    "c) Write a function that computes the manhattan distance between two vectors. Which pair of vectors are the most similar under that distance function?"
   ]
  },
  {
   "cell_type": "code",
   "execution_count": 19,
   "metadata": {},
   "outputs": [
    {
     "name": "stdout",
     "output_type": "stream",
     "text": [
      "0.7999999999999998\n"
     ]
    }
   ],
   "source": [
    "def minkowski_distance(v1, v2, p):\n",
    "    if p < 1:\n",
    "        raise ValueError(\"p must be at least 1\")\n",
    "    if len(v1) != len(v2):\n",
    "        raise ValueError(\"vectors must be same length\")\n",
    "    res = 0\n",
    "    for i in range(len(v1)):\n",
    "        res += abs(v1[i] - v2[i]) ** p\n",
    "    return res ** (1/p)\n",
    "\n",
    "def manhattan_distance(v1, v2):\n",
    "    return minkowski_distance(v1, v2, 1)\n",
    "\n",
    "def euclidean_distance(v1, v2):\n",
    "    return minkowski_distance(v1, v2, 2)\n",
    "\n",
    "def cosine_similarity(v1, v2):\n",
    "    if len(v1) != len(v2):\n",
    "        raise ValueError(\"vectors must be same length\")\n",
    "    dot = 0\n",
    "    for i in range(len(v1)):\n",
    "        dot += v1[i] * v2[i]\n",
    "    mag1 = sum([x ** 2 for x in v1]) ** 0.5\n",
    "    mag2 = sum([x ** 2 for x in v2]) ** 0.5\n",
    "    return dot / (mag1 * mag2)\n",
    "\n",
    "print(cosine_similarity(s1_vec, s2_vec))"
   ]
  },
  {
   "cell_type": "markdown",
   "metadata": {},
   "source": [
    "d) Create a matrix of all these vectors (row major) and add the following sentences in vector form:\n",
    "\n",
    "- \"hi Alice\"\n",
    "- \"hello Claude\"\n",
    "- \"Bob my name is Claude\"\n",
    "- \"hi Claude my name is Alice\"\n",
    "- \"hello Bob\""
   ]
  },
  {
   "cell_type": "code",
   "execution_count": 24,
   "metadata": {},
   "outputs": [
    {
     "name": "stdout",
     "output_type": "stream",
     "text": [
      "[[1 0 0 0 0 0 1 0]\n",
      " [0 0 0 0 1 1 0 0]\n",
      " [0 1 1 1 1 0 0 1]\n",
      " [1 1 1 0 1 0 1 1]\n",
      " [0 0 0 1 0 1 0 0]]\n"
     ]
    }
   ],
   "source": [
    "import numpy as np\n",
    "\n",
    "corpus = [\"hi Alice\",\n",
    "          \"hello Claude\",\n",
    "          \"Bob my name is Claude\",\n",
    "          \"hi Claude my name is Alice\",\n",
    "          \"hello Bob\",]\n",
    "\n",
    "vectorized_corpus = [vectorize(x, new_words) for x in corpus]\n",
    "\n",
    "print(vectorized_corpus)\n",
    "\n",
    "\n"
   ]
  },
  {
   "cell_type": "markdown",
   "metadata": {},
   "source": [
    "e) How many rows and columns does this matrix have?"
   ]
  },
  {
   "cell_type": "code",
   "execution_count": 22,
   "metadata": {},
   "outputs": [],
   "source": [
    "rows = len(vectorized_corpus)\n",
    "cols = len(vectorized_corpus[0])"
   ]
  },
  {
   "attachments": {},
   "cell_type": "markdown",
   "metadata": {},
   "source": [
    "f) When using the Manhattan distance, which two sentences are the most similar?"
   ]
  },
  {
   "cell_type": "code",
   "execution_count": 27,
   "metadata": {},
   "outputs": [
    {
     "ename": "TypeError",
     "evalue": "'numpy.float64' object is not callable",
     "output_type": "error",
     "traceback": [
      "\u001b[0;31m---------------------------------------------------------------------------\u001b[0m",
      "\u001b[0;31mTypeError\u001b[0m                                 Traceback (most recent call last)",
      "\u001b[1;32m/Users/markmaci/Projects/CS506/Data-Science-Fundamentals/lecture_04/worksheet_04.ipynb Cell 34\u001b[0m line \u001b[0;36m1\n\u001b[0;32m----> <a href='vscode-notebook-cell:/Users/markmaci/Projects/CS506/Data-Science-Fundamentals/lecture_04/worksheet_04.ipynb#X45sZmlsZQ%3D%3D?line=0'>1</a>\u001b[0m \u001b[39mmin\u001b[39m \u001b[39m=\u001b[39m manhattan_distance(vectorized_corpus[\u001b[39m0\u001b[39;49m], vectorized_corpus[\u001b[39m1\u001b[39;49m])\n\u001b[1;32m      <a href='vscode-notebook-cell:/Users/markmaci/Projects/CS506/Data-Science-Fundamentals/lecture_04/worksheet_04.ipynb#X45sZmlsZQ%3D%3D?line=1'>2</a>\u001b[0m \u001b[39mfor\u001b[39;00m i \u001b[39min\u001b[39;00m \u001b[39mrange\u001b[39m (\u001b[39m1\u001b[39m, \u001b[39mlen\u001b[39m(vectorized_corpus)):\n\u001b[1;32m      <a href='vscode-notebook-cell:/Users/markmaci/Projects/CS506/Data-Science-Fundamentals/lecture_04/worksheet_04.ipynb#X45sZmlsZQ%3D%3D?line=2'>3</a>\u001b[0m     \u001b[39mfor\u001b[39;00m j \u001b[39min\u001b[39;00m \u001b[39mrange\u001b[39m (i\u001b[39m+\u001b[39m\u001b[39m1\u001b[39m, \u001b[39mlen\u001b[39m(vectorized_corpus)):\n",
      "\u001b[0;31mTypeError\u001b[0m: 'numpy.float64' object is not callable"
     ]
    }
   ],
   "source": [
    "min = manhattan_distance(vectorized_corpus[0], vectorized_corpus[1])\n",
    "for i in range (1, len(vectorized_corpus)):\n",
    "    for j in range (i+1, len(vectorized_corpus)):\n",
    "        if manhattan_distance(vectorized_corpus[i], vectorized_corpus[j]) < min:\n",
    "            min = manhattan_distance(vectorized_corpus[i], vectorized_corpus[j])\n",
    "\n",
    "\n",
    "print(min)"
   ]
  },
  {
   "cell_type": "markdown",
   "metadata": {},
   "source": []
  }
 ],
 "metadata": {
  "kernelspec": {
   "display_name": "Python 3",
   "language": "python",
   "name": "python3"
  },
  "language_info": {
   "codemirror_mode": {
    "name": "ipython",
    "version": 3
   },
   "file_extension": ".py",
   "mimetype": "text/x-python",
   "name": "python",
   "nbconvert_exporter": "python",
   "pygments_lexer": "ipython3",
   "version": "3.11.4"
  },
  "orig_nbformat": 4,
  "vscode": {
   "interpreter": {
    "hash": "76ca05dc3ea24b2e3b98cdb7774adfbb40773424bf5109b477fd793f623715af"
   }
  }
 },
 "nbformat": 4,
 "nbformat_minor": 2
}

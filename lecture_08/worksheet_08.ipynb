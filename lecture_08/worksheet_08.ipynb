{
 "cells": [
  {
   "cell_type": "markdown",
   "metadata": {},
   "source": [
    "# Worksheet 08\n",
    "\n",
    "Name:  Mark Maci\n",
    "UID: U30478693\n",
    "\n",
    "### Topics\n",
    "\n",
    "- Soft Clustering\n",
    "- Clustering Aggregation\n",
    "\n",
    "### Probability Review\n",
    "\n",
    "Read through [the following](https://medium.com/@gallettilance/overview-of-probability-3272b72c82c8)\n",
    "\n",
    "### Soft Clustering\n",
    "\n",
    "We generate 10 data points that come from a normal distribution with mean 5 and variance 1."
   ]
  },
  {
   "cell_type": "code",
   "execution_count": 60,
   "metadata": {},
   "outputs": [
    {
     "name": "stdout",
     "output_type": "stream",
     "text": [
      "[6.6533854052363814, 5.865902329720861, 6.7088502466361, 5.954423645755982, 3.954839916755966, 4.786852785499576, 6.152823862981239, 3.8969484354512103, 4.422111241677011, 6.037352670779008]\n"
     ]
    }
   ],
   "source": [
    "import random\n",
    "import numpy as np\n",
    "from sklearn.cluster import KMeans\n",
    "\n",
    "mean = 5\n",
    "stdev = 1\n",
    "\n",
    "c1 = np.random.normal(mean, stdev, 10).tolist()\n",
    "print(c1)"
   ]
  },
  {
   "cell_type": "markdown",
   "metadata": {},
   "source": [
    "a) Generate 10 more data points, this time coming from a normal distribution with mean 8 and variance 1."
   ]
  },
  {
   "cell_type": "code",
   "execution_count": 61,
   "metadata": {},
   "outputs": [
    {
     "name": "stdout",
     "output_type": "stream",
     "text": [
      "[7.065493957743201, 8.646606347756677, 8.294319869642875, 8.518425335189377, 8.10049406203236, 7.747124784657154, 8.564181319450386, 6.641888302502129, 6.601762298008909, 7.383515871902653]\n"
     ]
    }
   ],
   "source": [
    "c2 = np.random.normal(8, 1, 10).tolist()\n",
    "print(c2)"
   ]
  },
  {
   "cell_type": "markdown",
   "metadata": {},
   "source": [
    "b) Flip a fair coin 10 times. If the coin lands on H, then pick the last data point of `c1` and remove it from `c1`, if T then pick the last data point from `c2` and remove it from `c2`. Add these 10 points to a list called `data`."
   ]
  },
  {
   "cell_type": "code",
   "execution_count": 62,
   "metadata": {},
   "outputs": [
    {
     "name": "stdout",
     "output_type": "stream",
     "text": [
      "[7.383515871902653, 6.601762298008909, 6.641888302502129, 8.564181319450386, 6.037352670779008, 4.422111241677011, 7.747124784657154, 8.10049406203236, 8.518425335189377, 8.294319869642875]\n"
     ]
    }
   ],
   "source": [
    "data = []\n",
    "for i in range(10):\n",
    "    # flip coin\n",
    "    coin_output = random.choice([0, 1])\n",
    "    if coin_output == 0:\n",
    "        p1 = c1.pop()\n",
    "        data.append(p1)\n",
    "    else:\n",
    "        p2 = c2.pop()\n",
    "        data.append(p2)\n",
    "print(data)"
   ]
  },
  {
   "cell_type": "markdown",
   "metadata": {},
   "source": [
    "c) This `data` is a Gaussian Mixture Distribution with 2 mixture components. Over the next few questions we will walk through the GMM algorithm to see if we can uncover the parameters we used to generate this data. First, please list all these parameters of the GMM that created `data` and the values we know they have."
   ]
  },
  {
   "cell_type": "markdown",
   "metadata": {},
   "source": [
    "mean, variance, mixing coefficient"
   ]
  },
  {
   "cell_type": "markdown",
   "metadata": {},
   "source": [
    "d) Let's assume there are two mixture components (note: we could plot the data and make the observation that there are two clusters). The EM algorithm asks us to start with a random `mean_j`, `variance_j`, `P(C_j)` for each component j. One method we could use to find sensible values for these is to apply K means with k=2 here.\n",
    "\n",
    "1. the centroids would be the estimates of the `mean_j`\n",
    "2. the intra-cluster variance could be the estimate of `variance_j`\n",
    "3. the proportion of points in each cluster could be the estimate of `P(C_j)`\n",
    "\n",
    "Go through this process and list the parameter estimates it gives. Are they close or far from the true values?"
   ]
  },
  {
   "cell_type": "code",
   "execution_count": 63,
   "metadata": {},
   "outputs": [
    {
     "name": "stdout",
     "output_type": "stream",
     "text": [
      "[7.383515871902653, 8.564181319450386, 7.747124784657154, 8.10049406203236, 8.518425335189377, 8.294319869642875]\n",
      "[6.601762298008909, 6.641888302502129, 6.037352670779008, 4.422111241677011]\n",
      "P(C_1) = 0.6,  P(C_2) = 0.4\n",
      "mean_1 = 8.101343540479135,  mean_2 = 5.925778628241765\n",
      "var_1 = 0.1776940178504867,  var_2 = 0.8108078409369298\n"
     ]
    },
    {
     "name": "stderr",
     "output_type": "stream",
     "text": [
      "/Users/markmaci/miniconda3/lib/python3.11/site-packages/sklearn/cluster/_kmeans.py:1416: FutureWarning: The default value of `n_init` will change from 10 to 'auto' in 1.4. Set the value of `n_init` explicitly to suppress the warning\n",
      "  super()._check_params_vs_input(X, default_n_init=10)\n"
     ]
    }
   ],
   "source": [
    "kmeans = KMeans(2, init='k-means++').fit(X=np.array(data).reshape(-1, 1))\n",
    "\n",
    "c1 = [x[0] for x in filter(lambda x: x[1] == 0, zip(data, kmeans.labels_))]\n",
    "print(c1)\n",
    "c2 = [x[0] for x in filter(lambda x: x[1] == 1, zip(data, kmeans.labels_))]\n",
    "print(c2)\n",
    "\n",
    "prob_c = [ len(c1) / (len(c1) + len(c2)) , len(c2) / (len(c1) + len(c2))]\n",
    "mean = [ sum(c1)/len(c1) , sum(c2)/len(c2) ]\n",
    "var = [ sum(map(lambda x : (x - mean[0])**2, c1)) / len(c1) , sum(map(lambda x : (x - mean[1])**2, c2)) / len(c2) ]\n",
    "\n",
    "print(\"P(C_1) = \" + str(prob_c[0]) + \",  P(C_2) = \" + str(prob_c[1]))\n",
    "print(\"mean_1 = \" + str(mean[0]) + \",  mean_2 = \" + str(mean[1]))\n",
    "print(\"var_1 = \" + str(var[0]) + \",  var_2 = \" + str(var[1]))"
   ]
  },
  {
   "cell_type": "markdown",
   "metadata": {},
   "source": []
  },
  {
   "cell_type": "markdown",
   "metadata": {},
   "source": [
    "e) For each data point, compute `P(C_j | X_i)`. Comment on which cluster you think each point belongs to based on the estimated probabilities. How does that compare to the truth?"
   ]
  },
  {
   "cell_type": "code",
   "execution_count": 64,
   "metadata": {},
   "outputs": [
    {
     "name": "stdout",
     "output_type": "stream",
     "text": [
      "point =  7.383515871902653\n",
      "probability of observing that point if it came from cluster 0 =  0.000642098103734708\n",
      "probability of observing that point if it came from cluster 1 =  0.09774383845456291\n",
      "point =  6.601762298008909\n",
      "probability of observing that point if it came from cluster 0 =  7.696280082536315e-16\n",
      "probability of observing that point if it came from cluster 1 =  0.3475816320472898\n",
      "point =  6.641888302502129\n",
      "probability of observing that point if it came from cluster 0 =  5.044695013698115e-15\n",
      "probability of observing that point if it came from cluster 1 =  0.3331241543661933\n",
      "point =  8.564181319450386\n",
      "probability of observing that point if it came from cluster 0 =  0.07551299225443225\n",
      "probability of observing that point if it came from cluster 1 =  0.0024698232275245004\n",
      "point =  6.037352670779008\n",
      "probability of observing that point if it came from cluster 0 =  1.1328267364812313e-29\n",
      "probability of observing that point if it came from cluster 1 =  0.4873940294754382\n",
      "point =  4.422111241677011\n",
      "probability of observing that point if it came from cluster 0 =  1.8068876537782553e-93\n",
      "probability of observing that point if it came from cluster 1 =  0.08813769955195466\n",
      "point =  7.747124784657154\n",
      "probability of observing that point if it came from cluster 0 =  0.30786085258278845\n",
      "probability of observing that point if it came from cluster 1 =  0.03946957520204405\n",
      "point =  8.10049406203236\n",
      "probability of observing that point if it came from cluster 0 =  2.2450824545052823\n",
      "probability of observing that point if it came from cluster 1 =  0.013484661660920412\n",
      "point =  8.518425335189377\n",
      "probability of observing that point if it came from cluster 0 =  0.1428587274314747\n",
      "probability of observing that point if it came from cluster 1 =  0.0029629585096356895\n",
      "point =  8.294319869642875\n",
      "probability of observing that point if it came from cluster 0 =  1.2448958240732417\n",
      "probability of observing that point if it came from cluster 1 =  0.00690193935324166\n",
      "7.383515871902653\n",
      "Probability of coming from C_1 = 0.009757639235443085\n",
      "Probability of coming from C_2 = 0.9902423607645569\n",
      "\n",
      "6.601762298008909\n",
      "Probability of coming from C_1 = 3.321355060049251e-15\n",
      "Probability of coming from C_2 = 0.9999999999999966\n",
      "\n",
      "6.641888302502129\n",
      "Probability of coming from C_1 = 2.2715382302265537e-14\n",
      "Probability of coming from C_2 = 0.9999999999999772\n",
      "\n",
      "8.564181319450386\n",
      "Probability of coming from C_1 = 0.9786604638200669\n",
      "Probability of coming from C_2 = 0.021339536179933144\n",
      "\n",
      "6.037352670779008\n",
      "Probability of coming from C_1 = 3.4863785806951057e-29\n",
      "Probability of coming from C_2 = 1.0\n",
      "\n",
      "4.422111241677011\n",
      "Probability of coming from C_1 = 3.075110304041597e-92\n",
      "Probability of coming from C_2 = 1.0\n",
      "\n",
      "7.747124784657154\n",
      "Probability of coming from C_1 = 0.9212594103826788\n",
      "Probability of coming from C_2 = 0.07874058961732111\n",
      "\n",
      "8.10049406203236\n",
      "Probability of coming from C_1 = 0.9960117629217154\n",
      "Probability of coming from C_2 = 0.003988237078284588\n",
      "\n",
      "8.518425335189377\n",
      "Probability of coming from C_1 = 0.986361591742292\n",
      "Probability of coming from C_2 = 0.01363840825770803\n",
      "\n",
      "8.294319869642875\n",
      "Probability of coming from C_1 = 0.9963174841785156\n",
      "Probability of coming from C_2 = 0.003682515821484434\n",
      "\n"
     ]
    }
   ],
   "source": [
    "from scipy.stats import norm\n",
    "\n",
    "prob_c0_x = [] # P(C_0 | X_i)\n",
    "prob_c1_x = [] # P(C_1 | X_i)\n",
    "prob_x_i = [] # P(X_i)\n",
    "\n",
    "k = 2\n",
    "\n",
    "for p in data:\n",
    "    print(\"point = \", p)\n",
    "    pdf_i = []\n",
    "\n",
    "    for j in range(k):\n",
    "        # P(X_i | C_j)\n",
    "        pdf_i.append(norm.pdf(p, mean[j], var[j]))\n",
    "        print(\"probability of observing that point if it came from cluster \" + str(j) + \" = \", pdf_i[j])\n",
    "        # P(C_j) already computed\n",
    "        prob_c[j]\n",
    "\n",
    "    # P(X_i) = P(C_0)P(X_i | C_0) + P(C_1)P(X_i | C_1)\n",
    "    prob_x_i = prob_c[0] * pdf_i[0] + prob_c[1] * pdf_i[1]\n",
    "\n",
    "    # P(C_j | X_i) = P(X_i | C_j)P(C_j) / P(X_i)\n",
    "    prob_c0_x.append(pdf_i[0] * prob_c[0] / prob_x_i)\n",
    "    prob_c1_x.append(pdf_i[1] * prob_c[1] / prob_x_i)\n",
    "\n",
    "probs = zip(data, prob_c0_x, prob_c1_x)\n",
    "for p in probs:\n",
    "    print(p[0])\n",
    "    print(\"Probability of coming from C_1 = \" + str(p[1]))\n",
    "    print(\"Probability of coming from C_2 = \" + str(p[2]))\n",
    "    print()\n"
   ]
  },
  {
   "cell_type": "markdown",
   "metadata": {},
   "source": [
    "f) Having computed `P(C_j | X_i)`, update the estimates of `mean_j`, `var_j`, and `P(C_j)`. How different are these values from the original ones you got from K means? briefly comment."
   ]
  },
  {
   "cell_type": "code",
   "execution_count": 70,
   "metadata": {},
   "outputs": [
    {
     "name": "stdout",
     "output_type": "stream",
     "text": [
      "P(C_1) = 0.48883683522807375,  P(C_2) = 0.5111631647719261\n",
      "mean_1 = 8.249131591826846,  mean_2 = 6.257567867361522\n",
      "var_1 = 0.08841118628569777,  var_2 = 1.0418855187001184\n"
     ]
    }
   ],
   "source": [
    "prob_c = [sum(prob_c0_x)/ len(prob_c0_x), sum(prob_c1_x)/ len(prob_c1_x)]\n",
    "mean = [\n",
    "    sum([x[0] * x[1] for x in zip(prob_c0_x, data)]) / sum(prob_c0_x), \n",
    "    sum([x[0] * x[1] for x in zip(prob_c1_x, data)]) / sum(prob_c1_x)\n",
    "]\n",
    "var = [\n",
    "    sum([x[0] * (x[1] - mean[0])**2 for x in zip(prob_c0_x, data)]) / sum(prob_c0_x),\n",
    "    sum([x[0] * (x[1] - mean[1])**2 for x in zip(prob_c1_x, data)]) / sum(prob_c1_x)\n",
    "]\n",
    "\n",
    "print(\"P(C_1) = \" + str(prob_c[0]) + \",  P(C_2) = \" + str(prob_c[1]))\n",
    "print(\"mean_1 = \" + str(mean[0]) + \",  mean_2 = \" + str(mean[1]))\n",
    "print(\"var_1 = \" + str(var[0]) + \",  var_2 = \" + str(var[1]))"
   ]
  },
  {
   "cell_type": "markdown",
   "metadata": {},
   "source": []
  },
  {
   "cell_type": "markdown",
   "metadata": {},
   "source": [
    "g) Update `P(C_j | X_i)`. Comment on any differences or lack thereof you observe."
   ]
  },
  {
   "cell_type": "code",
   "execution_count": 71,
   "metadata": {},
   "outputs": [
    {
     "name": "stdout",
     "output_type": "stream",
     "text": [
      "7.383515871902653\n",
      "Probability of coming from C_1 = 3.08929870238008e-20\n",
      "Probability of coming from C_2 = 1.0\n",
      "\n",
      "6.601762298008909\n",
      "Probability of coming from C_1 = 4.832978219938376e-75\n",
      "Probability of coming from C_2 = 1.0\n",
      "\n",
      "6.641888302502129\n",
      "Probability of coming from C_1 = 2.0799084736790647e-71\n",
      "Probability of coming from C_2 = 1.0\n",
      "\n",
      "8.564181319450386\n",
      "Probability of coming from C_1 = 0.1859787288106438\n",
      "Probability of coming from C_2 = 0.8140212711893561\n",
      "\n",
      "6.037352670779008\n",
      "Probability of coming from C_1 = 1.446812983378739e-135\n",
      "Probability of coming from C_2 = 1.0\n",
      "\n",
      "4.422111241677011\n",
      "Probability of coming from C_1 = 0.0\n",
      "Probability of coming from C_2 = 1.0\n",
      "\n",
      "7.747124784657154\n",
      "Probability of coming from C_1 = 3.1244516595702132e-06\n",
      "Probability of coming from C_2 = 0.9999968755483404\n",
      "\n",
      "8.10049406203236\n",
      "Probability of coming from C_1 = 0.9291228513361754\n",
      "Probability of coming from C_2 = 0.07087714866382454\n",
      "\n",
      "8.518425335189377\n",
      "Probability of coming from C_1 = 0.5343661278181066\n",
      "Probability of coming from C_2 = 0.46563387218189334\n",
      "\n",
      "8.294319869642875\n",
      "Probability of coming from C_1 = 0.9852589770867043\n",
      "Probability of coming from C_2 = 0.014741022913295732\n",
      "\n"
     ]
    }
   ],
   "source": [
    "prob_c0_x_updated = []\n",
    "prob_c1_x_updated = []\n",
    "\n",
    "for p in data:\n",
    "    pdf_i = []\n",
    "\n",
    "    for j in range(k):\n",
    "        pdf_i.append(norm.pdf(p, mean[j], var[j]))\n",
    "\n",
    "    prob_x_i = prob_c[0] * pdf_i[0] + prob_c[1] * pdf_i[1]\n",
    "\n",
    "    prob_c0_x_updated.append(pdf_i[0] * prob_c[0] / prob_x_i)\n",
    "    prob_c1_x_updated.append(pdf_i[1] * prob_c[1] / prob_x_i)\n",
    "\n",
    "probs = zip(data, prob_c0_x_updated, prob_c1_x_updated)\n",
    "\n",
    "for p in probs:\n",
    "    print(p[0])\n",
    "    print(\"Probability of coming from C_1 = \" + str(p[1]))\n",
    "    print(\"Probability of coming from C_2 = \" + str(p[2]))\n",
    "    print()\n"
   ]
  },
  {
   "cell_type": "markdown",
   "metadata": {},
   "source": []
  },
  {
   "cell_type": "markdown",
   "metadata": {},
   "source": [
    "h) Use `P(C_j | X_i)` to create a hard assignment - label each point as belonging to a specific cluster (0 or 1)"
   ]
  },
  {
   "cell_type": "code",
   "execution_count": 73,
   "metadata": {},
   "outputs": [
    {
     "name": "stdout",
     "output_type": "stream",
     "text": [
      "Point 7.383515871902653 is assigned to cluster 1\n",
      "\n",
      "Point 6.601762298008909 is assigned to cluster 1\n",
      "\n",
      "Point 6.641888302502129 is assigned to cluster 1\n",
      "\n",
      "Point 8.564181319450386 is assigned to cluster 1\n",
      "\n",
      "Point 6.037352670779008 is assigned to cluster 1\n",
      "\n",
      "Point 4.422111241677011 is assigned to cluster 1\n",
      "\n",
      "Point 7.747124784657154 is assigned to cluster 1\n",
      "\n",
      "Point 8.10049406203236 is assigned to cluster 0\n",
      "\n",
      "Point 8.518425335189377 is assigned to cluster 0\n",
      "\n",
      "Point 8.294319869642875 is assigned to cluster 0\n",
      "\n"
     ]
    }
   ],
   "source": [
    "assignments = []\n",
    "\n",
    "for i in range(len(data)):\n",
    "    if prob_c0_x_updated[i] > prob_c1_x_updated[i]:\n",
    "        assignments.append(0)\n",
    "    else:\n",
    "        assignments.append(1)\n",
    "\n",
    "for i, point in enumerate(data):\n",
    "    print(f\"Point {point} is assigned to cluster {assignments[i]}\")\n",
    "    print()\n"
   ]
  },
  {
   "cell_type": "markdown",
   "metadata": {},
   "source": [
    "### Clustering Aggregation\n",
    "\n",
    "| Point | C | P |\n",
    "|-------|---|---|\n",
    "| A     | 0 | a |\n",
    "| B     | 0 | b |\n",
    "| C     | 2 | b |\n",
    "| D     | 1 | c |\n",
    "| E     | 1 | d |\n",
    "\n",
    "a) Fill in the following table where for each pair of points determine whether C and P agree or disagree on how to cluster that pair."
   ]
  },
  {
   "cell_type": "markdown",
   "metadata": {},
   "source": [
    "| Pair | Disagreement |\n",
    "|------|--------------|\n",
    "| A  B |      Yes      |\n",
    "| A  C |      No    |\n",
    "| A  D |      No      |\n",
    "| A  E |      No       |\n",
    "| B  C |      No       |\n",
    "| B  D |      No     |\n",
    "| B  E |      No       |\n",
    "| C  D |      Yes       |\n",
    "| C  E |     Yes     |\n",
    "| D  E |     No     |\n"
   ]
  },
  {
   "cell_type": "markdown",
   "metadata": {},
   "source": [
    "As datasets become very large, this process can become computationally challenging.\n",
    "\n",
    "b) Given N points, what is the formula for the number of unique pairs of points one can create?"
   ]
  },
  {
   "cell_type": "markdown",
   "metadata": {},
   "source": [
    "The formula for the number of unique pairs of points one can create is N choose 2, or N(N-1)/2."
   ]
  },
  {
   "cell_type": "markdown",
   "metadata": {},
   "source": [
    "Assume that clustering C clusters all points in the same cluster and clustering P clusters points as such:\n",
    "\n",
    "| Point | P |\n",
    "|-------|---|\n",
    "| A     | 0 |\n",
    "| B     | 0 |\n",
    "| C     | 0 |\n",
    "| D     | 1 |\n",
    "| E     | 1 |\n",
    "| F     | 2 |\n",
    "| G     | 2 |\n",
    "| H     | 2 |\n",
    "| I     | 2 |\n",
    "\n",
    "c) What is the maximum number of disagreements there could be for a dataset of this size? (use the formula from b)?"
   ]
  },
  {
   "cell_type": "markdown",
   "metadata": {},
   "source": [
    "Maximum number of disagreements = 9 choose 2 = 36"
   ]
  },
  {
   "cell_type": "markdown",
   "metadata": {},
   "source": [
    "d) If we look at cluster 0. There are (3 x 2) / 2 = 3 pairs that agree with C (since all points in C are in the same cluster). For each cluster, determine how many agreements there are. How many total agreements are there? How many disagreements does that mean there are between C and P?"
   ]
  },
  {
   "cell_type": "markdown",
   "metadata": {},
   "source": [
    "Total agreements = 10\n",
    "Total disagreements = 26"
   ]
  },
  {
   "cell_type": "markdown",
   "metadata": {},
   "source": [
    "e) Assuming that filtering the dataset by cluster number is a computationally easy operation, describe an algorithm inspired by the above process that can efficiently compute disagreement distances on large datasets."
   ]
  },
  {
   "cell_type": "markdown",
   "metadata": {},
   "source": [
    "Given clusterings C and P, calculate the number of agreements and disagreements for each cluster. Then, sum the number of agreements and disagreements across all clusters. The total number of disagreements is the sum of the number of disagreements for each cluster."
   ]
  }
 ],
 "metadata": {
  "interpreter": {
   "hash": "76ca05dc3ea24b2e3b98cdb7774adfbb40773424bf5109b477fd793f623715af"
  },
  "kernelspec": {
   "display_name": "Python 3 (ipykernel)",
   "language": "python",
   "name": "python3"
  },
  "language_info": {
   "codemirror_mode": {
    "name": "ipython",
    "version": 3
   },
   "file_extension": ".py",
   "mimetype": "text/x-python",
   "name": "python",
   "nbconvert_exporter": "python",
   "pygments_lexer": "ipython3",
   "version": "3.11.4"
  }
 },
 "nbformat": 4,
 "nbformat_minor": 2
}
